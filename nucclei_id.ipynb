{
 "cells": [
  {
   "cell_type": "markdown",
   "metadata": {},
   "source": [
    "First step:\n",
    "\n",
    "Overlay images and masks to have an idea of what we have to do\n",
    "\n",
    "Identify:\n",
    "\n",
    "  - Standard cases\n",
    "\n",
    "  - Special cases\n",
    "  \n",
    "Second step:\n",
    "\n",
    "Normalise images:\n",
    "    \n",
    "   - Each image is normalized to try to identify what is or not nuclei\n",
    "   \n",
    "\n",
    "\n",
    "Thoughts:\n",
    "\n",
    "Identify mixed nuclei: shape of the borders?\n",
    "\n",
    "Interesting articles:\n",
    "https://stackoverflow.com/questions/19736361/contour-completion-in-image-segmentation\n",
    "http://www.ias-iss.org/ojs/IAS/article/viewFile/862/765\n",
    "https://scholar.harvard.edu/files/humayun/files/2014_rmbe_nucleisegmentation.pdf"
   ]
  }
 ],
 "metadata": {
  "kernelspec": {
   "display_name": "Python 3",
   "language": "python",
   "name": "python3"
  },
  "language_info": {
   "codemirror_mode": {
    "name": "ipython",
    "version": 3
   },
   "file_extension": ".py",
   "mimetype": "text/x-python",
   "name": "python",
   "nbconvert_exporter": "python",
   "pygments_lexer": "ipython3",
   "version": "3.6.3"
  }
 },
 "nbformat": 4,
 "nbformat_minor": 2
}
